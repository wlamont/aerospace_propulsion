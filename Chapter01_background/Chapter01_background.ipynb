{
 "metadata": {
  "name": ""
 },
 "nbformat": 3,
 "nbformat_minor": 0,
 "worksheets": [
  {
   "cells": [
    {
     "cell_type": "heading",
     "level": 6,
     "metadata": {},
     "source": [
      "Content under Creative Commons Attribution license CC-BY 4.0, code under MIT license (c)2014 W.G. Lamont"
     ]
    },
    {
     "cell_type": "code",
     "collapsed": false,
     "input": [
      "import matplotlib.pyplot as plt\n",
      "import numpy as np\n",
      "%matplotlib inline"
     ],
     "language": "python",
     "metadata": {},
     "outputs": [],
     "prompt_number": 1
    },
    {
     "cell_type": "markdown",
     "metadata": {},
     "source": [
      "Aerospace Propulsion\n",
      "=====\n",
      "\n",
      "\n",
      "\n",
      "#####Version 0.1\n",
      "\n",
      "\n",
      "Welcome to *Aerospace Propulsion*. The full Github repository is available at [https://github.com/wlamont/aerospace_propulsion](https://github.com/wlamont/aerospace_propulsion).  Please feel free to contribute"
     ]
    },
    {
     "cell_type": "markdown",
     "metadata": {},
     "source": [
      "Chapter 1: Background\n",
      "======"
     ]
    },
    {
     "cell_type": "markdown",
     "metadata": {},
     "source": [
      ">*With sufficient thrust, pigs fly just fine.*  \n",
      "\n",
      ">-R. Callon, The Twelve Networking Truths"
     ]
    },
    {
     "cell_type": "markdown",
     "metadata": {},
     "source": [
      "The background required for the subsequent chapters falls into two categories: gas dynamics and combustion.  If the reader has experience with these subjects this chapter can be safely skipped.  Note both gas dynamics and combustion are vast fields with many textbooks and full courses dedicated to each.  For a more in-depth treatment of gas dynamics I would recommend Prof. Zucrow's *Gas Dynamics* and for a good detailed book on combustion I would recommend Prof. Glassman's *Combustion*. "
     ]
    },
    {
     "cell_type": "heading",
     "level": 3,
     "metadata": {},
     "source": [
      "Gas Dynamics"
     ]
    },
    {
     "cell_type": "markdown",
     "metadata": {},
     "source": [
      "Gas dynamics is the overlapping area of fluid mechanics and thermodynamics and is concerned with the motion of gases and its effects on physical structures.  Before we begin, we must define our approach (statistical or continuum) and perspective (Eulerian or Lagrangian) for defining the governing equations and our framework for solving problems.  For this text, we will use the *continuum approach* -- we will ignore individual molecules and treat the substance as being continuously distributed in space.  The continuum approach is valid when the smallest macroscopic length scale is much larger than the microscopic length scale (usually the mean free path of a molecule).  Conversely, the *statistical approach* considers individual molecules and the solution requires probability and statistics (this is the approach taken in Statistical Mechanics).  In terms of perspective, a moving fluid can be studied by either looking at a control volume (Eulerian point of view) or a control mass (Lagrangian point of view).  In the control volume (Eulerian) perspective, a stationary control volume is created in space and we observe the change in fluid passing through the control volume.  In the control mass (Lagrangian) perspective, we consider a specific mass as it moves and changes with time.  Note: the control mass is allowed to deform and change with time but once defined the control volume is not.  For this text, we will use the control volume (Eulerian) perspective.  "
     ]
    },
    {
     "cell_type": "markdown",
     "metadata": {},
     "source": [
      "The most important parameter in aerospace propulsion (and arguably gas dynamics) is the Mach number (M), which is a dimensionless number representing the ratio of the flow velocity ($V$) to the local speed of sound ($a$):"
     ]
    },
    {
     "cell_type": "markdown",
     "metadata": {},
     "source": [
      "$$\\begin{equation}\n",
      "Ma \\equiv \\frac{V}{a}\n",
      "\\end{equation}$$"
     ]
    },
    {
     "cell_type": "markdown",
     "metadata": {},
     "source": [
      "As we will see, the Mach number can be used to recast the governing equations into forms that are better suited for aerospace propulsion.  The Mach number can also be used to classify flows:"
     ]
    },
    {
     "cell_type": "markdown",
     "metadata": {},
     "source": [
      "$$\\begin{eqnarray}\n",
      "Ma < 0.3  \\; \\rm{ incompressible} \\\\\n",
      "Ma \\approx 1 \\; \\rm{transonic} \\\\\n",
      "Ma = 1 \\; \\rm{sonic} \\\\\n",
      "Ma > 1 \\; \\rm{supersonic} \\\\\n",
      "Ma > 5 \\; \\rm{hypersonic}\n",
      "\\end{eqnarray}$$"
     ]
    },
    {
     "cell_type": "markdown",
     "metadata": {},
     "source": [
      "Before we define the speed of sound we first need to introduce the equation of state which describes the relation between various thermodynamic properties.  For this text we will use the ideal gas law:"
     ]
    },
    {
     "cell_type": "markdown",
     "metadata": {},
     "source": [
      "$$\\begin{equation}\n",
      "PV = n R_u T\n",
      "\\end{equation}$$"
     ]
    },
    {
     "cell_type": "markdown",
     "metadata": {},
     "source": [
      "where $P$ is the pressure, $V$ is the volume, $n$ is the number of moles, $Ru$ is the universal gas  constant($Ru = 8314$ kJ /(K$ \\cdot$mol)), and $T$ is the temperature.  This equation can be recast into a more useful form by: (1) replacing the number of moles ($n$) with the mass ($m$) divided by the molar mass ($MW$), (2) dividing the mass ($m$) by the volume ($V$) and replacing by the density ($\\rho = m/V$), and (3) replacing the universal gas constant by the specific gas constant ($R = Ru / MW$):"
     ]
    },
    {
     "cell_type": "markdown",
     "metadata": {},
     "source": [
      "$$\\begin{equation}\n",
      "P = \\rho R T\n",
      "\\end{equation}$$"
     ]
    },
    {
     "cell_type": "heading",
     "level": 4,
     "metadata": {},
     "source": [
      "Conservation of Mass"
     ]
    },
    {
     "cell_type": "markdown",
     "metadata": {},
     "source": [
      "The conservation of mass (also sometimes called continuity) states that matter can not be created nor destroyed.  For control volume analysis, the conservation of mass states that mass change within the control volume must equal the net rate at which mass enters and exits the control volume:"
     ]
    },
    {
     "cell_type": "markdown",
     "metadata": {},
     "source": [
      "$$\\begin{equation}\n",
      "\\left.\\frac{\\partial m}{\\partial t} \\right\\vert_{CV} = \\dot{m}_{in} - \\dot{m}_{out}\n",
      "\\end{equation}$$"
     ]
    },
    {
     "cell_type": "markdown",
     "metadata": {},
     "source": [
      "For a steady state process, as depicted in figure, the time dependence drops out and the conservation of mass reduces to the simple:"
     ]
    },
    {
     "cell_type": "markdown",
     "metadata": {},
     "source": [
      "$$\\begin{equation}\n",
      "\\dot{m}_{1} = \\dot{m}_{2}\n",
      "\\end{equation}$$"
     ]
    },
    {
     "cell_type": "markdown",
     "metadata": {},
     "source": [
      "<img src=\"files/cons_mass3.png\">\n",
      "####Figure 1. Conservation of mass where the control surface (c.s.) for the control volume is shown by the dashed line"
     ]
    },
    {
     "cell_type": "markdown",
     "metadata": {},
     "source": [
      "The mass flow rate can be expressed in terms of stagnation variables (denoted by $^\\circ$) and Mach number by using the ideal gas law and Gibbs relation for an isentropic process: "
     ]
    },
    {
     "cell_type": "markdown",
     "metadata": {},
     "source": [
      "$$\\begin{eqnarray}\n",
      "\\dot{m} = \\rho u A = \\sqrt{\\frac{\\gamma}{R}} \\frac{P^o A D(M)}{\\sqrt{T^o}}\\\\\n",
      "\\end{eqnarray}$$"
     ]
    },
    {
     "cell_type": "markdown",
     "metadata": {},
     "source": [
      "$$\\begin{eqnarray}\n",
      "D(M) = \\frac{M}{\\left(1+\\frac{\\gamma-1}{2}M^2\\right)^{\\frac{\\gamma+1}{2(\\gamma-1)}}} \\\\\n",
      "\\frac{D(M)}{dM} = \\frac{D}{M}\\frac{1-M^2}{1+\\frac{\\gamma-1}{2}M^2}\n",
      "\\end{eqnarray}$$"
     ]
    },
    {
     "cell_type": "markdown",
     "metadata": {},
     "source": [
      "The above two equations can be programmed into Python to create the *D Function*."
     ]
    },
    {
     "cell_type": "code",
     "collapsed": false,
     "input": [
      "def d_function(gamma, MW, M):\n",
      "    '''\n",
      "    Calculates D(M) and D(M)/dM \n",
      "    where \n",
      "    gamma is the ratio of specific heat\n",
      "    MW is the molecular weight\n",
      "    M is the Mach Number\n",
      "    '''\n",
      "    D = M / (1+(gamma-1)/2*M**2) ** ((gamma+1)/(2*gamma-2))\n",
      "    dD = D / M*(1-M**2) / (1+(gamma-1)/2*M**2)\n",
      "    return D, dD"
     ],
     "language": "python",
     "metadata": {},
     "outputs": [],
     "prompt_number": 9
    },
    {
     "cell_type": "code",
     "collapsed": false,
     "input": [
      "gamma_air   =       1.4\n",
      "MW_air      =       28.97\n",
      "M_air       =       []         \n",
      "D_air       =       []\n",
      "for M in np.arange(0, 10, 0.1):\n",
      "    d = d_function(gamma_air, MW_air, M)\n",
      "    D_air.append(d[0])\n",
      "    M_air.append(M)\n",
      "    \n",
      "plt.plot(M_air, D_air, 'k')\n",
      "plt.xlabel('Mach number [-]')\n",
      "plt.xticks(range(1, 11, 1))\n",
      "plt.ylabel('D(M) [-]')\n",
      "plt.grid()\n"
     ],
     "language": "python",
     "metadata": {},
     "outputs": [
      {
       "metadata": {},
       "output_type": "display_data",
       "png": "[encoded data removed]",
       "text": [
        "<matplotlib.figure.Figure at 0x7fbe4e431e50>"
       ]
      }
     ],
     "prompt_number": 10
    },
    {
     "cell_type": "heading",
     "level": 4,
     "metadata": {},
     "source": [
      "Conservation of Momentum"
     ]
    },
    {
     "cell_type": "markdown",
     "metadata": {},
     "source": [
      "$$\\begin{equation}\n",
      "\\dot{m}_1 u_1 + P_1 A_1 + \\sum F_x = \\dot{m}_2 u_2 + P_2 A_2\n",
      "\\end{equation}$$"
     ]
    },
    {
     "cell_type": "markdown",
     "metadata": {},
     "source": [
      "where $\\sum F_x$ is the total force on the control volume and comprised of pressure and viscous forces:"
     ]
    },
    {
     "cell_type": "markdown",
     "metadata": {},
     "source": [
      "$$\\begin{equation}\n",
      "\\sum F_x = \\int^2_1 P dA - \\int^2_1 \\pi d \\tau_w dx\n",
      "\\end{equation}$$"
     ]
    },
    {
     "cell_type": "markdown",
     "metadata": {},
     "source": [
      "$$\\begin{equation}\n",
      "G(M) =\\frac{1+\\gamma M^2}{\\left(1+\\frac{\\gamma-1}{2}M^2\\right)^{\\frac{\\gamma}{\\gamma-1}}}\n",
      "\\end{equation}$$"
     ]
    },
    {
     "cell_type": "code",
     "collapsed": false,
     "input": [
      "def g_function(gamma, MW, M):\n",
      "    '''\n",
      "    Calculates G(M)\n",
      "    where \n",
      "    gamma is the ratio of specific heat\n",
      "    MW is the molecular weight\n",
      "    M is the Mach Number\n",
      "    '''\n",
      "    G = (1 + gamma * M **2) / (1 + (gamma - 1) / 2 * M **2) ** (gamma/(gamma-1))\n",
      "    return G"
     ],
     "language": "python",
     "metadata": {},
     "outputs": [],
     "prompt_number": 4
    },
    {
     "cell_type": "code",
     "collapsed": false,
     "input": [
      "M_air       =       []         \n",
      "G_air       =       []\n",
      "for M in np.arange(0, 10, 0.1):\n",
      "        g = g_function (gamma_air, MW_air, M)\n",
      "        G_air.append(g)\n",
      "        M_air.append(M)\n",
      "          \n",
      "plt.plot(M_air, G_air, 'k')\n",
      "plt.xlabel('Mach number [-]')\n",
      "plt.xticks(range(1, 11, 1))\n",
      "plt.ylabel('G(M) [-]')\n",
      "plt.grid()"
     ],
     "language": "python",
     "metadata": {},
     "outputs": [
      {
       "metadata": {},
       "output_type": "display_data",
       "png": "[encoded data removed]",
       "text": [
        "<matplotlib.figure.Figure at 0x7fbe4e400250>"
       ]
      }
     ],
     "prompt_number": 5
    },
    {
     "cell_type": "code",
     "collapsed": false,
     "input": [
      "from IPython.core.display import HTML\n",
      "\n",
      "\n",
      "def css_styling():\n",
      "    styles = open(\"/home/wlamont/Documents/Textbooks/aerospace_prop_python/styles/custom.css\", \"r\").read()\n",
      "    return HTML(styles)\n",
      "css_styling()"
     ],
     "language": "python",
     "metadata": {},
     "outputs": [
      {
       "html": [
        "<style>\n",
        "    @font-face {\n",
        "        font-family: \"Computer Modern\";\n",
        "        src: url('http://9dbb143991406a7c655e-aa5fcb0a5a4ec34cff238a2d56ca4144.r56.cf5.rackcdn.com/cmunss.otf');\n",
        "    }\n",
        "    @font-face {\n",
        "        font-family: \"Computer Modern\";\n",
        "        font-weight: bold;\n",
        "        src: url('http://9dbb143991406a7c655e-aa5fcb0a5a4ec34cff238a2d56ca4144.r56.cf5.rackcdn.com/cmunsx.otf');\n",
        "    }\n",
        "    @font-face {\n",
        "        font-family: \"Computer Modern\";\n",
        "        font-style: oblique;\n",
        "        src: url('http://9dbb143991406a7c655e-aa5fcb0a5a4ec34cff238a2d56ca4144.r56.cf5.rackcdn.com/cmunsi.otf');\n",
        "    }\n",
        "    @font-face {\n",
        "        font-family: \"Computer Modern\";\n",
        "        font-weight: bold;\n",
        "        font-style: oblique;\n",
        "        src: url('http://9dbb143991406a7c655e-aa5fcb0a5a4ec34cff238a2d56ca4144.r56.cf5.rackcdn.com/cmunso.otf');\n",
        "    }\n",
        "    div.cell{\n",
        "        width:800px;\n",
        "        margin-left:16% !important;\n",
        "        margin-right:auto;\n",
        "    }\n",
        "    h1 {\n",
        "        font-family: Helvetica, serif;\n",
        "    }\n",
        "    h4{\n",
        "        margin-top:12px;\n",
        "        margin-bottom: 3px;\n",
        "       }\n",
        "    div.text_cell_render{\n",
        "        font-family: Computer Modern, \"Helvetica Neue\", Arial, Helvetica, Geneva, sans-serif;\n",
        "        line-height: 145%;\n",
        "        font-size: 130%;\n",
        "        width:800px;\n",
        "        margin-left:auto;\n",
        "        margin-right:auto;\n",
        "    }\n",
        "    .CodeMirror{\n",
        "            font-family: \"Source Code Pro\", source-code-pro,Consolas, monospace;\n",
        "    }\n",
        "    .prompt{\n",
        "        display: None;\n",
        "    }\n",
        "    .text_cell_render h5 {\n",
        "        font-weight: 300;\n",
        "        font-size: 22pt;\n",
        "        color: #4057A1;\n",
        "        font-style: italic;\n",
        "        margin-bottom: .5em;\n",
        "        margin-top: 0.5em;\n",
        "        display: block;\n",
        "    }\n",
        "    .text_cell_render h6 { /*use this for copyright note*/\n",
        "\t\tfont-family: 'PT Mono', sans-serif;\n",
        "\t\tfont-weight: 300;\n",
        "\t\tfont-size: 9pt;\n",
        "\t\tline-height: 100%;\n",
        "\t\tcolor: grey;\n",
        "\t\tmargin-bottom: 1px;\n",
        "\t\tmargin-top: 1px;\n",
        "\t}\n",
        "    \n",
        "    .warning{\n",
        "        color: rgb( 240, 20, 20 )\n",
        "        }  \n",
        "</style>\n",
        "<script>\n",
        "    MathJax.Hub.Config({\n",
        "                        TeX: {\n",
        "                           extensions: [\"AMSmath.js\"]\n",
        "                           },\n",
        "                tex2jax: {\n",
        "                    inlineMath: [ ['$','$'], [\"\\\\(\",\"\\\\)\"] ],\n",
        "                    displayMath: [ ['$$','$$'], [\"\\\\[\",\"\\\\]\"] ]\n",
        "                },\n",
        "                displayAlign: 'center', // Change this to 'center' to center equations.\n",
        "                \"HTML-CSS\": {\n",
        "                    styles: {'.MathJax_Display': {\"margin\": 4}}\n",
        "                }\n",
        "        });\n",
        "</script>\n"
       ],
       "metadata": {},
       "output_type": "pyout",
       "prompt_number": 6,
       "text": [
        "<IPython.core.display.HTML at 0x7fbe4e431550>"
       ]
      }
     ],
     "prompt_number": 6
    },
    {
     "cell_type": "code",
     "collapsed": false,
     "input": [],
     "language": "python",
     "metadata": {},
     "outputs": [],
     "prompt_number": 6
    },
    {
     "cell_type": "code",
     "collapsed": false,
     "input": [],
     "language": "python",
     "metadata": {},
     "outputs": [],
     "prompt_number": 6
    }
   ],
   "metadata": {}
  }
 ]
}